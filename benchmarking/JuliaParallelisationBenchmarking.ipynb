{
 "cells": [
  {
   "cell_type": "markdown",
   "metadata": {},
   "source": [
    "# Julia Parallelisation Testing and Benchmarking"
   ]
  },
  {
   "cell_type": "markdown",
   "metadata": {},
   "source": [
    "## Imports and Global Variables"
   ]
  },
  {
   "cell_type": "code",
   "execution_count": 10,
   "metadata": {},
   "outputs": [],
   "source": [
    "using BenchmarkTools\n",
    "using Distributed\n",
    "MAX_DIMENSIONS = 5000;"
   ]
  },
  {
   "cell_type": "markdown",
   "metadata": {},
   "source": [
    "## Setting Number of Available Cores"
   ]
  },
  {
   "cell_type": "code",
   "execution_count": 2,
   "metadata": {},
   "outputs": [],
   "source": [
    "CPUcores = 12\n",
    "\n",
    "addprocs(CPUcores);"
   ]
  },
  {
   "cell_type": "markdown",
   "metadata": {},
   "source": [
    "## Use Shared Arrays Library"
   ]
  },
  {
   "cell_type": "code",
   "execution_count": 11,
   "metadata": {},
   "outputs": [],
   "source": [
    "@everywhere using SharedArrays"
   ]
  },
  {
   "cell_type": "markdown",
   "metadata": {},
   "source": [
    "## Matrix Multiplication"
   ]
  },
  {
   "cell_type": "code",
   "execution_count": 12,
   "metadata": {},
   "outputs": [],
   "source": [
    "matrix_parallel = SharedArray(ones(Float64, MAX_DIMENSIONS, MAX_DIMENSIONS)) * 5;"
   ]
  },
  {
   "cell_type": "code",
   "execution_count": 13,
   "metadata": {},
   "outputs": [],
   "source": [
    "function multiply_matrix_parallel()\n",
    "    result_parallel = SharedArray(zeros(Float64, MAX_DIMENSIONS, MAX_DIMENSIONS));\n",
    "    @distributed for i in 1:MAX_DIMENSIONS\n",
    "        @distributed for j in 1:MAX_DIMENSIONS\n",
    "            for k in 1:MAX_DIMENSIONS\n",
    "                result_parallel[i, j] += matrix_parallel[i, k] * matrix_parallel[k, j];\n",
    "            end\n",
    "        end\n",
    "    end\n",
    "    return result_parallel\n",
    "end\n",
    "\n",
    "result = multiply_matrix_parallel();"
   ]
  },
  {
   "cell_type": "code",
   "execution_count": 14,
   "metadata": {},
   "outputs": [
    {
     "name": "stdout",
     "output_type": "stream",
     "text": [
      "394.013689 seconds (10.31 k allocations: 191.082 MiB, 0.06% gc time)\n"
     ]
    },
    {
     "data": {
      "text/plain": [
       "5000×5000 SharedArray{Float64,2}:\n",
       " 0.0  0.0  0.0  0.0  0.0  0.0  0.0  0.0  …  0.0  0.0  0.0  0.0  0.0  0.0  0.0\n",
       " 0.0  0.0  0.0  0.0  0.0  0.0  0.0  0.0     0.0  0.0  0.0  0.0  0.0  0.0  0.0\n",
       " 0.0  0.0  0.0  0.0  0.0  0.0  0.0  0.0     0.0  0.0  0.0  0.0  0.0  0.0  0.0\n",
       " 0.0  0.0  0.0  0.0  0.0  0.0  0.0  0.0     0.0  0.0  0.0  0.0  0.0  0.0  0.0\n",
       " 0.0  0.0  0.0  0.0  0.0  0.0  0.0  0.0     0.0  0.0  0.0  0.0  0.0  0.0  0.0\n",
       " 0.0  0.0  0.0  0.0  0.0  0.0  0.0  0.0  …  0.0  0.0  0.0  0.0  0.0  0.0  0.0\n",
       " 0.0  0.0  0.0  0.0  0.0  0.0  0.0  0.0     0.0  0.0  0.0  0.0  0.0  0.0  0.0\n",
       " 0.0  0.0  0.0  0.0  0.0  0.0  0.0  0.0     0.0  0.0  0.0  0.0  0.0  0.0  0.0\n",
       " 0.0  0.0  0.0  0.0  0.0  0.0  0.0  0.0     0.0  0.0  0.0  0.0  0.0  0.0  0.0\n",
       " 0.0  0.0  0.0  0.0  0.0  0.0  0.0  0.0     0.0  0.0  0.0  0.0  0.0  0.0  0.0\n",
       " 0.0  0.0  0.0  0.0  0.0  0.0  0.0  0.0  …  0.0  0.0  0.0  0.0  0.0  0.0  0.0\n",
       " 0.0  0.0  0.0  0.0  0.0  0.0  0.0  0.0     0.0  0.0  0.0  0.0  0.0  0.0  0.0\n",
       " 0.0  0.0  0.0  0.0  0.0  0.0  0.0  0.0     0.0  0.0  0.0  0.0  0.0  0.0  0.0\n",
       " ⋮                        ⋮              ⋱            ⋮                   \n",
       " 0.0  0.0  0.0  0.0  0.0  0.0  0.0  0.0     0.0  0.0  0.0  0.0  0.0  0.0  0.0\n",
       " 0.0  0.0  0.0  0.0  0.0  0.0  0.0  0.0     0.0  0.0  0.0  0.0  0.0  0.0  0.0\n",
       " 0.0  0.0  0.0  0.0  0.0  0.0  0.0  0.0  …  0.0  0.0  0.0  0.0  0.0  0.0  0.0\n",
       " 0.0  0.0  0.0  0.0  0.0  0.0  0.0  0.0     0.0  0.0  0.0  0.0  0.0  0.0  0.0\n",
       " 0.0  0.0  0.0  0.0  0.0  0.0  0.0  0.0     0.0  0.0  0.0  0.0  0.0  0.0  0.0\n",
       " 0.0  0.0  0.0  0.0  0.0  0.0  0.0  0.0     0.0  0.0  0.0  0.0  0.0  0.0  0.0\n",
       " 0.0  0.0  0.0  0.0  0.0  0.0  0.0  0.0     0.0  0.0  0.0  0.0  0.0  0.0  0.0\n",
       " 0.0  0.0  0.0  0.0  0.0  0.0  0.0  0.0  …  0.0  0.0  0.0  0.0  0.0  0.0  0.0\n",
       " 0.0  0.0  0.0  0.0  0.0  0.0  0.0  0.0     0.0  0.0  0.0  0.0  0.0  0.0  0.0\n",
       " 0.0  0.0  0.0  0.0  0.0  0.0  0.0  0.0     0.0  0.0  0.0  0.0  0.0  0.0  0.0\n",
       " 0.0  0.0  0.0  0.0  0.0  0.0  0.0  0.0     0.0  0.0  0.0  0.0  0.0  0.0  0.0\n",
       " 0.0  0.0  0.0  0.0  0.0  0.0  0.0  0.0     0.0  0.0  0.0  0.0  0.0  0.0  0.0"
      ]
     },
     "execution_count": 14,
     "metadata": {},
     "output_type": "execute_result"
    }
   ],
   "source": [
    "@time multiply_matrix_parallel()"
   ]
  },
  {
   "cell_type": "code",
   "execution_count": 9,
   "metadata": {},
   "outputs": [
    {
     "data": {
      "text/plain": [
       "500×500 SharedArray{Float64,2}:\n",
       " 12500.0  12500.0  12500.0  12500.0  …  12500.0  12500.0  12500.0  12500.0\n",
       " 12500.0  12500.0  12500.0  12500.0     12500.0  12500.0  12500.0  12500.0\n",
       " 12500.0  12500.0  12500.0  12500.0     12500.0  12500.0  12500.0  12500.0\n",
       " 12500.0  12500.0  12500.0  12500.0     12500.0  12500.0  12500.0  12500.0\n",
       " 12500.0  12500.0  12500.0  12500.0     12500.0  12500.0  12500.0  12500.0\n",
       " 12500.0  12500.0  12500.0  12500.0  …  12500.0  12500.0  12500.0  12500.0\n",
       " 12500.0  12500.0  12500.0  12500.0     12500.0  12500.0  12500.0  12500.0\n",
       " 12500.0  12500.0  12500.0  12500.0     12500.0  12500.0  12500.0  12500.0\n",
       " 12500.0  12500.0  12500.0  12500.0     12500.0  12500.0  12500.0  12500.0\n",
       " 12500.0  12500.0  12500.0  12500.0     12500.0  12500.0  12500.0  12500.0\n",
       " 12500.0  12500.0  12500.0  12500.0  …  12500.0  12500.0  12500.0  12500.0\n",
       " 12500.0  12500.0  12500.0  12500.0     12500.0  12500.0  12500.0  12500.0\n",
       " 12500.0  12500.0  12500.0  12500.0     12500.0  12500.0  12500.0  12500.0\n",
       "     ⋮                               ⋱                             \n",
       " 12500.0  12500.0  12500.0  12500.0     12500.0  12500.0  12500.0  12500.0\n",
       " 12500.0  12500.0  12500.0  12500.0     12500.0  12500.0  12500.0  12500.0\n",
       " 12500.0  12500.0  12500.0  12500.0  …  12500.0  12500.0  12500.0  12500.0\n",
       " 12500.0  12500.0  12500.0  12500.0     12500.0  12500.0  12500.0  12500.0\n",
       " 12500.0  12500.0  12500.0  12500.0     12500.0  12500.0  12500.0  12500.0\n",
       " 12500.0  12500.0  12500.0  12500.0     12500.0  12500.0  12500.0  12500.0\n",
       " 12500.0  12500.0  12500.0  12500.0     12500.0  12500.0  12500.0  12500.0\n",
       " 12500.0  12500.0  12500.0  12500.0  …  12500.0  12500.0  12500.0  12500.0\n",
       " 12500.0  12500.0  12500.0  12500.0     12500.0  12500.0  12500.0  12500.0\n",
       " 12500.0  12500.0  12500.0  12500.0     12500.0  12500.0  12500.0  12500.0\n",
       " 12500.0  12500.0  12500.0  12500.0     12500.0  12500.0  12500.0  12500.0\n",
       " 12500.0  12500.0  12500.0  12500.0     12500.0  12500.0  12500.0  12500.0"
      ]
     },
     "execution_count": 9,
     "metadata": {},
     "output_type": "execute_result"
    }
   ],
   "source": [
    "result"
   ]
  },
  {
   "cell_type": "markdown",
   "metadata": {},
   "source": [
    "## Scientific Computing"
   ]
  },
  {
   "cell_type": "code",
   "execution_count": null,
   "metadata": {
    "scrolled": true
   },
   "outputs": [],
   "source": [
    "function monte_carlo_pi_parallel(nsamples)\n",
    "    acc = 0\n",
    "    acc = @distributed (+) for i in 1:nsamples\n",
    "        x = rand();\n",
    "        y = rand();\n",
    "        if x^2 + y^2 < 1.0\n",
    "            1;\n",
    "        else\n",
    "            0;\n",
    "        end\n",
    "    end\n",
    "    println((4.0*acc/nsamples))\n",
    "end\n",
    "\n",
    "monte_carlo_pi_parallel(50000);"
   ]
  },
  {
   "cell_type": "code",
   "execution_count": null,
   "metadata": {},
   "outputs": [],
   "source": [
    "@time monte_carlo_pi_parallel(5000000000)"
   ]
  },
  {
   "cell_type": "code",
   "execution_count": null,
   "metadata": {},
   "outputs": [],
   "source": []
  }
 ],
 "metadata": {
  "kernelspec": {
   "display_name": "JuliaPro_v1.4.2-1 1.4.2",
   "language": "julia",
   "name": "juliapro_v1.4.2-1-1.4"
  },
  "language_info": {
   "file_extension": ".jl",
   "mimetype": "application/julia",
   "name": "julia",
   "version": "1.4.2"
  }
 },
 "nbformat": 4,
 "nbformat_minor": 4
}
