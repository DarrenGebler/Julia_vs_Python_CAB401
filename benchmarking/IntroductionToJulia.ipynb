{
 "cells": [
  {
   "cell_type": "markdown",
   "metadata": {},
   "source": [
    "# Introduction to Julia"
   ]
  },
  {
   "cell_type": "markdown",
   "metadata": {},
   "source": [
    "## Quickly getting familiar with syntax"
   ]
  },
  {
   "cell_type": "markdown",
   "metadata": {},
   "source": [
    "### Data types"
   ]
  },
  {
   "cell_type": "code",
   "execution_count": 3,
   "metadata": {},
   "outputs": [
    {
     "name": "stdout",
     "output_type": "stream",
     "text": [
      "a type = Int64, b type = String, c type = Bool"
     ]
    }
   ],
   "source": [
    "# No declaration of data types.\n",
    "a = 1;\n",
    "b = \"one\";\n",
    "c = true;\n",
    "\n",
    "print(\"a type = \", typeof(a),\", b type = \", typeof(b), \", c type = \", typeof(c))\n"
   ]
  },
  {
   "cell_type": "markdown",
   "metadata": {},
   "source": [
    "### Functions"
   ]
  },
  {
   "cell_type": "code",
   "execution_count": 4,
   "metadata": {},
   "outputs": [
    {
     "data": {
      "text/plain": [
       "intro (generic function with 1 method)"
      ]
     },
     "execution_count": 4,
     "metadata": {},
     "output_type": "execute_result"
    }
   ],
   "source": [
    "function intro(a, b, c) # declare function with name and input variables\n",
    "    d = a * 5.5;                  # all primative numeric types support arithmetic operators\n",
    "    e = b * \" \\u2200 x \\u2203 y\"  # string concatenation and Unicode and UTF-8 conversion\n",
    "    f = c == false                # comparisons\n",
    "    return d, e, f                # return desired varaibles\n",
    "end                               # to finish function, use 'end' to finalise"
   ]
  },
  {
   "cell_type": "code",
   "execution_count": 5,
   "metadata": {},
   "outputs": [
    {
     "data": {
      "text/plain": [
       "(5.5, \"one ∀ x ∃ y\", false)"
      ]
     },
     "execution_count": 5,
     "metadata": {},
     "output_type": "execute_result"
    }
   ],
   "source": [
    "d, e, f = intro(a,b,c) # calling a function"
   ]
  },
  {
   "cell_type": "markdown",
   "metadata": {},
   "source": [
    "### Control Flow"
   ]
  },
  {
   "cell_type": "code",
   "execution_count": 6,
   "metadata": {},
   "outputs": [
    {
     "name": "stdout",
     "output_type": "stream",
     "text": [
      "If, elseif, else statement output:\n",
      "x is less than y\n",
      "\n",
      "While loop output:\n",
      "1\n",
      "2\n",
      "3\n",
      "4\n",
      "5\n",
      "\n",
      "For loop output:\n",
      "1\n",
      "2\n",
      "3\n",
      "4\n",
      "5\n"
     ]
    }
   ],
   "source": [
    "z = (x = 1; y = 2; x + 2) # compound expressions, similiar to lambda function in Python\n",
    "\n",
    "println(\"If, elseif, else statement output:\")\n",
    "\n",
    "if x < y # if, elseif, else statements are defined as follows\n",
    "    println(\"x is less than y\")\n",
    "elseif x > y\n",
    "    println(\"x is greater than y\")\n",
    "else\n",
    "    println(\"x is equal to y\")\n",
    "end # must finish with 'end'\n",
    "\n",
    "println(\"\\nWhile loop output:\")\n",
    "\n",
    "while x <= 5 || f  # while loops are defined as follows, true boolean varaibles can be used to continue loop before falsified\n",
    "    println(x)\n",
    "    x += 1\n",
    "end\n",
    "\n",
    "println(\"\\nFor loop output:\")\n",
    "\n",
    "for y = 1:5 # for loops are defined as follows. Integer ranges or list variables can be used as loop iterables.\n",
    "    println(y)\n",
    "end"
   ]
  },
  {
   "cell_type": "markdown",
   "metadata": {},
   "source": [
    "### A Brief Tour of the Power of Julia"
   ]
  },
  {
   "cell_type": "markdown",
   "metadata": {},
   "source": [
    "#### Libraries"
   ]
  },
  {
   "cell_type": "code",
   "execution_count": 13,
   "metadata": {},
   "outputs": [],
   "source": [
    "using Pkg # include external libraries\n",
    "Pkg.add(\"LinearAlgebra\") # download external libraries using 'Pkg'\n",
    "using LinearAlgebra"
   ]
  },
  {
   "cell_type": "markdown",
   "metadata": {},
   "source": [
    "#### Inline Array Creation"
   ]
  },
  {
   "cell_type": "code",
   "execution_count": 14,
   "metadata": {},
   "outputs": [
    {
     "data": {
      "text/plain": [
       "3×3 Array{Float64,2}:\n",
       "  1.18697   -0.121415   -0.584306\n",
       " -0.317938   0.573886    0.0598085\n",
       " -0.223581  -0.0854142   0.669404"
      ]
     },
     "execution_count": 14,
     "metadata": {},
     "output_type": "execute_result"
    }
   ],
   "source": [
    "A = inv(rand(3,3) + Matrix{Float64}(I, 3,3))"
   ]
  },
  {
   "cell_type": "markdown",
   "metadata": {},
   "source": [
    "#### Single Line Array Expression Computation"
   ]
  },
  {
   "cell_type": "code",
   "execution_count": 15,
   "metadata": {},
   "outputs": [
    {
     "name": "stdout",
     "output_type": "stream",
     "text": [
      "X = -0.12141481585007438\n",
      "Y = 2.6694041438159197\n"
     ]
    }
   ],
   "source": [
    "println(\"X = \", A[1, 2])\n",
    "println(\"Y = \", (A + 2I)[3, 3])"
   ]
  },
  {
   "cell_type": "code",
   "execution_count": 16,
   "metadata": {},
   "outputs": [
    {
     "data": {
      "text/plain": [
       "5×5 SymTridiagonal{Float64,Array{Float64,1}}:\n",
       "  2.0  -1.0    ⋅     ⋅     ⋅ \n",
       " -1.0   2.0  -1.0    ⋅     ⋅ \n",
       "   ⋅   -1.0   2.0  -1.0    ⋅ \n",
       "   ⋅     ⋅   -1.0   2.0  -1.0\n",
       "   ⋅     ⋅     ⋅   -1.0   2.0"
      ]
     },
     "execution_count": 16,
     "metadata": {},
     "output_type": "execute_result"
    }
   ],
   "source": [
    "special_tri_matrix(n) = SymTridiagonal(2*ones(n), -ones(n-1))\n",
    "special_tri_matrix(5)"
   ]
  },
  {
   "cell_type": "code",
   "execution_count": 17,
   "metadata": {},
   "outputs": [
    {
     "data": {
      "text/plain": [
       "8-element Array{Float64,1}:\n",
       "  4.0\n",
       "  7.0\n",
       "  9.0\n",
       " 10.000000000000002\n",
       " 10.000000000000002\n",
       "  9.0\n",
       "  7.0\n",
       "  4.0"
      ]
     },
     "execution_count": 17,
     "metadata": {},
     "output_type": "execute_result"
    }
   ],
   "source": [
    "special_tri_matrix(8)\\ones(8)"
   ]
  },
  {
   "cell_type": "code",
   "execution_count": 18,
   "metadata": {},
   "outputs": [
    {
     "data": {
      "image/png": "[encoded data removed]",
      "text/plain": [
       "Figure(PyObject <Figure size 640x480 with 1 Axes>)"
      ]
     },
     "metadata": {},
     "output_type": "display_data"
    }
   ],
   "source": [
    "using PyPlot, Random\n",
    " \n",
    "mean_val, stddev_val, size_val = 50, 11, 100000\n",
    "data = stddev_val.*randn(size_val).+mean_val\n",
    "h = plt.hist(data, 100);\n",
    "xlabel(\"Score\");\n",
    "ylabel(\"Students\");"
   ]
  }
 ],
 "metadata": {
  "kernelspec": {
   "display_name": "JuliaPro_v1.4.2-1 1.4.2",
   "language": "julia",
   "name": "juliapro_v1.4.2-1-1.4"
  },
  "language_info": {
   "file_extension": ".jl",
   "mimetype": "application/julia",
   "name": "julia",
   "version": "1.4.2"
  }
 },
 "nbformat": 4,
 "nbformat_minor": 4
}
